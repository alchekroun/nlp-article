{
 "cells": [
  {
   "cell_type": "code",
   "execution_count": 1,
   "metadata": {},
   "outputs": [],
   "source": [
    "import pandas as pd\n",
    "import numpy as np\n",
    "import matplotlib.pyplot as plt\n",
    "import seaborn as sns\n",
    "sns.set_theme(style=\"whitegrid\")"
   ]
  },
  {
   "cell_type": "code",
   "execution_count": 2,
   "metadata": {},
   "outputs": [],
   "source": [
    "data_articles = pd.read_pickle('pickle/articles_sentiment_analysis.pkl')\n",
    "data_stock = pd.read_pickle('pickle/stock.pkl')"
   ]
  },
  {
   "cell_type": "code",
   "execution_count": 3,
   "metadata": {},
   "outputs": [
    {
     "data": {
      "text/html": [
       "<div>\n",
       "<style scoped>\n",
       "    .dataframe tbody tr th:only-of-type {\n",
       "        vertical-align: middle;\n",
       "    }\n",
       "\n",
       "    .dataframe tbody tr th {\n",
       "        vertical-align: top;\n",
       "    }\n",
       "\n",
       "    .dataframe thead th {\n",
       "        text-align: right;\n",
       "    }\n",
       "</style>\n",
       "<table border=\"1\" class=\"dataframe\">\n",
       "  <thead>\n",
       "    <tr style=\"text-align: right;\">\n",
       "      <th></th>\n",
       "      <th>title</th>\n",
       "      <th>description</th>\n",
       "      <th>date</th>\n",
       "      <th>sentiment_title</th>\n",
       "      <th>confidence_title</th>\n",
       "      <th>sentiment_description</th>\n",
       "      <th>confidence_description</th>\n",
       "    </tr>\n",
       "  </thead>\n",
       "  <tbody>\n",
       "    <tr>\n",
       "      <th>0</th>\n",
       "      <td>columngetting mighty crowded  searching for ma...</td>\n",
       "      <td>the biggest fear in markets is often of market...</td>\n",
       "      <td>2020-12-09</td>\n",
       "      <td>NEGATIVE</td>\n",
       "      <td>0.987236</td>\n",
       "      <td>NEGATIVE</td>\n",
       "      <td>0.959164</td>\n",
       "    </tr>\n",
       "    <tr>\n",
       "      <th>1</th>\n",
       "      <td>column getting mighty crowded  searching for m...</td>\n",
       "      <td>column getting mighty crowded  searching for m...</td>\n",
       "      <td>2020-12-09</td>\n",
       "      <td>NEGATIVE</td>\n",
       "      <td>0.999172</td>\n",
       "      <td>NEGATIVE</td>\n",
       "      <td>0.999172</td>\n",
       "    </tr>\n",
       "    <tr>\n",
       "      <th>2</th>\n",
       "      <td>4 gamechanging stocks to invest 1000 in right now</td>\n",
       "      <td>these innovative companies can make investors ...</td>\n",
       "      <td>2020-12-09</td>\n",
       "      <td>POSITIVE</td>\n",
       "      <td>0.951164</td>\n",
       "      <td>POSITIVE</td>\n",
       "      <td>0.998714</td>\n",
       "    </tr>\n",
       "    <tr>\n",
       "      <th>3</th>\n",
       "      <td>global stocks rise on higher white house stimu...</td>\n",
       "      <td>summary list placementulliglobal stocks rose o...</td>\n",
       "      <td>2020-12-09</td>\n",
       "      <td>NEGATIVE</td>\n",
       "      <td>0.902753</td>\n",
       "      <td>NEGATIVE</td>\n",
       "      <td>0.999673</td>\n",
       "    </tr>\n",
       "    <tr>\n",
       "      <th>4</th>\n",
       "      <td>with investors expecting a latin american cryp...</td>\n",
       "      <td>six years after the launch of the mexicobased ...</td>\n",
       "      <td>2020-12-09</td>\n",
       "      <td>NEGATIVE</td>\n",
       "      <td>0.992876</td>\n",
       "      <td>NEGATIVE</td>\n",
       "      <td>0.990348</td>\n",
       "    </tr>\n",
       "  </tbody>\n",
       "</table>\n",
       "</div>"
      ],
      "text/plain": [
       "                                               title  \\\n",
       "0  columngetting mighty crowded  searching for ma...   \n",
       "1  column getting mighty crowded  searching for m...   \n",
       "2  4 gamechanging stocks to invest 1000 in right now   \n",
       "3  global stocks rise on higher white house stimu...   \n",
       "4  with investors expecting a latin american cryp...   \n",
       "\n",
       "                                         description        date  \\\n",
       "0  the biggest fear in markets is often of market...  2020-12-09   \n",
       "1  column getting mighty crowded  searching for m...  2020-12-09   \n",
       "2  these innovative companies can make investors ...  2020-12-09   \n",
       "3  summary list placementulliglobal stocks rose o...  2020-12-09   \n",
       "4  six years after the launch of the mexicobased ...  2020-12-09   \n",
       "\n",
       "  sentiment_title  confidence_title sentiment_description  \\\n",
       "0        NEGATIVE          0.987236              NEGATIVE   \n",
       "1        NEGATIVE          0.999172              NEGATIVE   \n",
       "2        POSITIVE          0.951164              POSITIVE   \n",
       "3        NEGATIVE          0.902753              NEGATIVE   \n",
       "4        NEGATIVE          0.992876              NEGATIVE   \n",
       "\n",
       "   confidence_description  \n",
       "0                0.959164  \n",
       "1                0.999172  \n",
       "2                0.998714  \n",
       "3                0.999673  \n",
       "4                0.990348  "
      ]
     },
     "execution_count": 3,
     "metadata": {},
     "output_type": "execute_result"
    }
   ],
   "source": [
    "data_articles.head()"
   ]
  },
  {
   "cell_type": "code",
   "execution_count": 31,
   "metadata": {},
   "outputs": [
    {
     "data": {
      "text/plain": [
       "Text(0.5, 0.98, 'Number of article by sentiment by day')"
      ]
     },
     "execution_count": 31,
     "metadata": {},
     "output_type": "execute_result"
    },
    {
     "data": {
      "image/png": "[encoded data removed]",
      "text/plain": [
       "<Figure size 598.35x504 with 1 Axes>"
      ]
     },
     "metadata": {},
     "output_type": "display_data"
    }
   ],
   "source": [
    "g = sns.catplot(\n",
    "    data=data_articles, kind=\"count\",\n",
    "    x = \"date\" ,hue=\"sentiment_title\",\n",
    "    ci=\"sd\", palette=\"pastel\", alpha=.6, height=7\n",
    ")\n",
    "g.despine(left=True)\n",
    "g.set_axis_labels(\"Day\", \"Number of article\")\n",
    "g.legend_out = True\n",
    "g.fig.suptitle(\"Number of article by sentiment by day\")"
   ]
  },
  {
   "cell_type": "code",
   "execution_count": 22,
   "metadata": {},
   "outputs": [
    {
     "data": {
      "text/plain": [
       "True"
      ]
     },
     "execution_count": 22,
     "metadata": {},
     "output_type": "execute_result"
    }
   ],
   "source": []
  },
  {
   "cell_type": "code",
   "execution_count": null,
   "metadata": {},
   "outputs": [],
   "source": []
  }
 ],
 "metadata": {
  "kernelspec": {
   "display_name": "Python 3",
   "language": "python",
   "name": "python3"
  },
  "language_info": {
   "codemirror_mode": {
    "name": "ipython",
    "version": 3
   },
   "file_extension": ".py",
   "mimetype": "text/x-python",
   "name": "python",
   "nbconvert_exporter": "python",
   "pygments_lexer": "ipython3",
   "version": "3.8.5"
  }
 },
 "nbformat": 4,
 "nbformat_minor": 4
}
