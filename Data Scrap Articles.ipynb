{
 "cells": [
  {
   "cell_type": "code",
   "execution_count": 1,
   "metadata": {},
   "outputs": [],
   "source": [
    "# Web scraping\n",
    "import requests\n",
    "from bs4 import BeautifulSoup\n",
    "import pickle\n",
    "\n",
    "articles = {}\n",
    "# Article challenges\n",
    "page = requests.get(\"https://www.challenges.fr/automobile/actu-auto/pres-de-150-000-precommandes-pour-le-cybertruck-de-tesla-selon-elon-musk_686441\").text\n",
    "soup = BeautifulSoup(page, \"lxml\")\n",
    "headline = [p.text for p in soup.find(class_=\"article-start\").find_all('h1')]\n",
    "text = [p.text for p in soup.find(class_=\"corps\").find_all('p')]\n",
    "articles[0] = headline + text"
   ]
  },
  {
   "cell_type": "code",
   "execution_count": 2,
   "metadata": {},
   "outputs": [],
   "source": [
    "# Articles leparisien\n",
    "page = requests.get(\"https://www.leparisien.fr/economie/tesla-devoile-un-pick-up-electrique-sorti-tout-droit-d-un-film-de-science-fiction-22-11-2019-8199081.php\").text\n",
    "soup = BeautifulSoup(page, \"lxml\")\n",
    "headline = [p.text for p in soup.find(class_=\"article_header\").find_all('h1')] + [p.text for p in soup.find(class_=\"article_header\").find_all('h2')]\n",
    "text = [p.text for p in soup.find(class_=\"article-section margin_bottom_article\").find_all('section')]\n",
    "articles[1] = headline + text"
   ]
  },
  {
   "cell_type": "code",
   "execution_count": 3,
   "metadata": {},
   "outputs": [],
   "source": [
    "journaux = [\"challenges\", \"leparisien\"]"
   ]
  },
  {
   "cell_type": "code",
   "execution_count": 4,
   "metadata": {},
   "outputs": [],
   "source": [
    "for i, j in enumerate(journaux):\n",
    "    with open(\"articles/\" + j + \".txt\", \"wb\") as file:\n",
    "            pickle.dump(articles[i], file)"
   ]
  },
  {
   "cell_type": "code",
   "execution_count": 5,
   "metadata": {},
   "outputs": [],
   "source": [
    "data_articles = {}\n",
    "for i, j in enumerate(journaux):\n",
    "    with open(\"articles/\" + j + \".txt\", \"rb\") as file:\n",
    "        data_articles[j] = pickle.load(file) "
   ]
  },
  {
   "cell_type": "code",
   "execution_count": 6,
   "metadata": {},
   "outputs": [
    {
     "data": {
      "text/plain": [
       "dict_keys(['challenges', 'leparisien'])"
      ]
     },
     "execution_count": 6,
     "metadata": {},
     "output_type": "execute_result"
    }
   ],
   "source": [
    "data_articles.keys()"
   ]
  },
  {
   "cell_type": "code",
   "execution_count": 7,
   "metadata": {},
   "outputs": [
    {
     "data": {
      "text/plain": [
       "['Près de 150.000 précommandes pour le Cybertruck de Tesla selon Elon Musk',\n",
       " 'Lors de ce show jeudi à Los Angeles, un collaborateur de la firme avait lancé une masse en acier contre une vitre blindée de ce \"Cybertruck\" qui s\\'était enfoncée sous le coup, arrachant un juron à Elon Musk. Une deuxième tentative avait endommagé une autre vitre.']"
      ]
     },
     "execution_count": 7,
     "metadata": {},
     "output_type": "execute_result"
    }
   ],
   "source": [
    "data_articles[\"challenges\"][:2]"
   ]
  },
  {
   "cell_type": "code",
   "execution_count": 8,
   "metadata": {},
   "outputs": [],
   "source": [
    "def combine_text(list_of_text):\n",
    "    combined_text = ' '.join(list_of_text)\n",
    "    return combined_text"
   ]
  },
  {
   "cell_type": "code",
   "execution_count": 9,
   "metadata": {},
   "outputs": [],
   "source": [
    "data_combined = {key: [combine_text(value)] for (key, value) in data_articles.items()}"
   ]
  },
  {
   "cell_type": "code",
   "execution_count": 11,
   "metadata": {},
   "outputs": [
    {
     "data": {
      "text/html": [
       "<div>\n",
       "<style scoped>\n",
       "    .dataframe tbody tr th:only-of-type {\n",
       "        vertical-align: middle;\n",
       "    }\n",
       "\n",
       "    .dataframe tbody tr th {\n",
       "        vertical-align: top;\n",
       "    }\n",
       "\n",
       "    .dataframe thead th {\n",
       "        text-align: right;\n",
       "    }\n",
       "</style>\n",
       "<table border=\"1\" class=\"dataframe\">\n",
       "  <thead>\n",
       "    <tr style=\"text-align: right;\">\n",
       "      <th></th>\n",
       "      <th>text</th>\n",
       "    </tr>\n",
       "  </thead>\n",
       "  <tbody>\n",
       "    <tr>\n",
       "      <th>challenges</th>\n",
       "      <td>Près de 150.000 précommandes pour le Cybertruc...</td>\n",
       "    </tr>\n",
       "    <tr>\n",
       "      <th>leparisien</th>\n",
       "      <td>Tesla dévoile un pick-up électrique sorti tout...</td>\n",
       "    </tr>\n",
       "  </tbody>\n",
       "</table>\n",
       "</div>"
      ],
      "text/plain": [
       "                                                         text\n",
       "challenges  Près de 150.000 précommandes pour le Cybertruc...\n",
       "leparisien  Tesla dévoile un pick-up électrique sorti tout..."
      ]
     },
     "execution_count": 11,
     "metadata": {},
     "output_type": "execute_result"
    }
   ],
   "source": [
    "import pandas as pd\n",
    "\n",
    "data_df = pd.DataFrame.from_dict(data_combined).transpose()\n",
    "data_df.columns = [\"text\"]\n",
    "data_df"
   ]
  },
  {
   "cell_type": "code",
   "execution_count": null,
   "metadata": {},
   "outputs": [],
   "source": []
  }
 ],
 "metadata": {
  "kernelspec": {
   "display_name": "Python 3",
   "language": "python",
   "name": "python3"
  },
  "language_info": {
   "codemirror_mode": {
    "name": "ipython",
    "version": 3
   },
   "file_extension": ".py",
   "mimetype": "text/x-python",
   "name": "python",
   "nbconvert_exporter": "python",
   "pygments_lexer": "ipython3",
   "version": "3.8.5"
  }
 },
 "nbformat": 4,
 "nbformat_minor": 4
}
