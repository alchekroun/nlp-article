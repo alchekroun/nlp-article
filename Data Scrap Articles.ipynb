{
 "cells": [
  {
   "cell_type": "code",
   "execution_count": 1,
   "metadata": {},
   "outputs": [],
   "source": [
    "# Web scraping\n",
    "import requests\n",
    "from bs4 import BeautifulSoup\n",
    "import pickle\n",
    "\n",
    "articles = {}\n",
    "# Article challenges\n",
    "page = requests.get(\"https://www.challenges.fr/automobile/actu-auto/pres-de-150-000-precommandes-pour-le-cybertruck-de-tesla-selon-elon-musk_686441\").text\n",
    "soup = BeautifulSoup(page, \"lxml\")\n",
    "headline = [p.text for p in soup.find(class_=\"article-start\").find_all('h1')]\n",
    "text = [p.text for p in soup.find(class_=\"corps\").find_all('p')]\n",
    "articles[0] = headline + text"
   ]
  },
  {
   "cell_type": "code",
   "execution_count": 2,
   "metadata": {},
   "outputs": [],
   "source": [
    "# Articles leparisien\n",
    "page = requests.get(\"https://www.leparisien.fr/economie/tesla-devoile-un-pick-up-electrique-sorti-tout-droit-d-un-film-de-science-fiction-22-11-2019-8199081.php\").text\n",
    "soup = BeautifulSoup(page, \"lxml\")\n",
    "headline = [p.text for p in soup.find(class_=\"article_header\").find_all('h1')] + [p.text for p in soup.find(class_=\"article_header\").find_all('h2')]\n",
    "text = [p.text for p in soup.find(class_=\"article-section margin_bottom_article\").find_all('section')]\n",
    "articles[1] = headline + text"
   ]
  },
  {
   "cell_type": "code",
   "execution_count": 3,
   "metadata": {},
   "outputs": [],
   "source": [
    "journaux = [\"challenges\", \"leparisien\"]"
   ]
  },
  {
   "cell_type": "code",
   "execution_count": 4,
   "metadata": {},
   "outputs": [],
   "source": [
    "for i, j in enumerate(journaux):\n",
    "    with open(\"articles/\" + j + \".txt\", \"wb\") as file:\n",
    "            pickle.dump(articles[i], file)"
   ]
  },
  {
   "cell_type": "code",
   "execution_count": 5,
   "metadata": {},
   "outputs": [],
   "source": [
    "data_articles = {}\n",
    "for i, j in enumerate(journaux):\n",
    "    with open(\"articles/\" + j + \".txt\", \"rb\") as file:\n",
    "        data_articles[j] = pickle.load(file) "
   ]
  },
  {
   "cell_type": "code",
   "execution_count": 6,
   "metadata": {},
   "outputs": [
    {
     "data": {
      "text/plain": [
       "dict_keys(['challenges', 'leparisien'])"
      ]
     },
     "execution_count": 6,
     "metadata": {},
     "output_type": "execute_result"
    }
   ],
   "source": [
    "data_articles.keys()"
   ]
  },
  {
   "cell_type": "code",
   "execution_count": 7,
   "metadata": {},
   "outputs": [
    {
     "data": {
      "text/plain": [
       "['Près de 150.000 précommandes pour le Cybertruck de Tesla selon Elon Musk',\n",
       " 'Lors de ce show jeudi à Los Angeles, un collaborateur de la firme avait lancé une masse en acier contre une vitre blindée de ce \"Cybertruck\" qui s\\'était enfoncée sous le coup, arrachant un juron à Elon Musk. Une deuxième tentative avait endommagé une autre vitre.']"
      ]
     },
     "execution_count": 7,
     "metadata": {},
     "output_type": "execute_result"
    }
   ],
   "source": [
    "data_articles[\"challenges\"][:2]"
   ]
  },
  {
   "cell_type": "code",
   "execution_count": 8,
   "metadata": {},
   "outputs": [],
   "source": [
    "def combine_text(list_of_text):\n",
    "    combined_text = ' '.join(list_of_text)\n",
    "    return combined_text"
   ]
  },
  {
   "cell_type": "code",
   "execution_count": 9,
   "metadata": {},
   "outputs": [],
   "source": [
    "data_combined = {key: [combine_text(value)] for (key, value) in data_articles.items()}"
   ]
  },
  {
   "cell_type": "code",
   "execution_count": 11,
   "metadata": {},
   "outputs": [
    {
     "data": {
      "text/html": [
       "<div>\n",
       "<style scoped>\n",
       "    .dataframe tbody tr th:only-of-type {\n",
       "        vertical-align: middle;\n",
       "    }\n",
       "\n",
       "    .dataframe tbody tr th {\n",
       "        vertical-align: top;\n",
       "    }\n",
       "\n",
       "    .dataframe thead th {\n",
       "        text-align: right;\n",
       "    }\n",
       "</style>\n",
       "<table border=\"1\" class=\"dataframe\">\n",
       "  <thead>\n",
       "    <tr style=\"text-align: right;\">\n",
       "      <th></th>\n",
       "      <th>text</th>\n",
       "    </tr>\n",
       "  </thead>\n",
       "  <tbody>\n",
       "    <tr>\n",
       "      <th>challenges</th>\n",
       "      <td>Près de 150.000 précommandes pour le Cybertruc...</td>\n",
       "    </tr>\n",
       "    <tr>\n",
       "      <th>leparisien</th>\n",
       "      <td>Tesla dévoile un pick-up électrique sorti tout...</td>\n",
       "    </tr>\n",
       "  </tbody>\n",
       "</table>\n",
       "</div>"
      ],
      "text/plain": [
       "                                                         text\n",
       "challenges  Près de 150.000 précommandes pour le Cybertruc...\n",
       "leparisien  Tesla dévoile un pick-up électrique sorti tout..."
      ]
     },
     "execution_count": 11,
     "metadata": {},
     "output_type": "execute_result"
    }
   ],
   "source": [
    "import pandas as pd\n",
    "\n",
    "data_df = pd.DataFrame.from_dict(data_combined).transpose()\n",
    "data_df.columns = [\"text\"]\n",
    "data_df"
   ]
  },
  {
   "cell_type": "code",
   "execution_count": 12,
   "metadata": {},
   "outputs": [
    {
     "data": {
      "text/plain": [
       "'Près de 150.000 précommandes pour le Cybertruck de Tesla selon Elon Musk Lors de ce show jeudi à Los Angeles, un collaborateur de la firme avait lancé une masse en acier contre une vitre blindée de ce \"Cybertruck\" qui s\\'était enfoncée sous le coup, arrachant un juron à Elon Musk. Une deuxième tentative avait endommagé une autre vitre. Vendredi, les cours de l\\'action Tesla avaient chuté de 6,1% après ce couac et des commentaires tièdes sur ce véhicule à venir. Mais samedi, Elon Musk a claironné sur Twitter: \"Déjà 146.000 commandes de Cybertruck, 42% pour un moteur double, 41% pour un triple et 17% pour un moteur simple\". Tout cela alors que le véhicule ne fait l\\'objet d\\'\"aucune campagne de publicité ni de pré-paiements\", a ajouté le milliardaire également PDG de SpaceX. Sur son site internet, Tesla offre la possiblité de passer commande de l\\'un des trois modèles disponibles en échange d\\'un dépôt symbolique \"et entièrement remboursable\" de 100 dollars. Il est donc impossible de dire combien de ces réservations seront transformées en commandes fermes. \"Vous serez en mesure de compléter la configuration à l\\'approche de la date de mise en production fin 2021. La production de la version tri-moteur à 4 roues motrices est prévue pour la fin 2022\", précise l\\'entreprise. Le futur pick-up aura six places, pourra emporter plus de 1,5 tonne et sera capable de tracter 7 tonnes. Le \"Cybertruck\" sera décliné en trois modèles, 39.900 dollars et 400 km d\\'autonomie pour l\\'entrée de gamme, jusqu\\'à 69.900 dollars et 800 km d\\'autonomie annoncée pour le modèle supérieur. Il pourra passer de 0 à 100 km/h en environ trois secondes.'"
      ]
     },
     "execution_count": 12,
     "metadata": {},
     "output_type": "execute_result"
    }
   ],
   "source": [
    "data_df.text.loc[\"challenges\"]"
   ]
  },
  {
   "cell_type": "code",
   "execution_count": 18,
   "metadata": {},
   "outputs": [],
   "source": [
    "import re\n",
    "import string\n",
    "\n",
    "def clean_text(text):\n",
    "    text = text.lower()\n",
    "    text = re.sub('\\[.*?\\]', '', text)\n",
    "    text = re.sub('[%s]' % re.escape(string.punctuation), '', text)\n",
    "    text = re.sub('\\w*\\d\\w*', '', text)\n",
    "    text = re.sub('[‘’“”…]', '', text)\n",
    "    text = re.sub('\\n', '', text)\n",
    "    return text\n",
    "\n",
    "ct_1 = lambda x : clean_text(x)"
   ]
  },
  {
   "cell_type": "code",
   "execution_count": 19,
   "metadata": {},
   "outputs": [],
   "source": [
    "data_clean = pd.DataFrame(data_df.text.apply(ct_1))"
   ]
  },
  {
   "cell_type": "code",
   "execution_count": 23,
   "metadata": {},
   "outputs": [
    {
     "data": {
      "text/plain": [
       "'près de  précommandes pour le cybertruck de tesla selon elon musk lors de ce show jeudi à los angeles un collaborateur de la firme avait lancé une masse en acier contre une vitre blindée de ce cybertruck qui sétait enfoncée sous le coup arrachant un juron à elon musk une deuxième tentative avait endommagé une autre vitre vendredi les cours de laction tesla avaient chuté de  après ce couac et des commentaires tièdes sur ce véhicule à venir mais samedi elon musk a claironné sur twitter déjà  commandes de cybertruck  pour un moteur double  pour un triple et  pour un moteur simple tout cela alors que le véhicule ne fait lobjet daucune campagne de publicité ni de prépaiements a ajouté le milliardaire également pdg de spacex sur son site internet tesla offre la possiblité de passer commande de lun des trois modèles disponibles en échange dun dépôt symbolique et entièrement remboursable de  dollars il est donc impossible de dire combien de ces réservations seront transformées en commandes fermes vous serez en mesure de compléter la configuration à lapproche de la date de mise en production fin  la production de la version trimoteur à  roues motrices est prévue pour la fin  précise lentreprise le futur pickup aura six places pourra emporter plus de  tonne et sera capable de tracter  tonnes le cybertruck sera décliné en trois modèles  dollars et  km dautonomie pour lentrée de gamme jusquà  dollars et  km dautonomie annoncée pour le modèle supérieur il pourra passer de  à  kmh en environ trois secondes'"
      ]
     },
     "execution_count": 23,
     "metadata": {},
     "output_type": "execute_result"
    }
   ],
   "source": [
    "data_clean.text.loc[\"challenges\"]"
   ]
  },
  {
   "cell_type": "code",
   "execution_count": 22,
   "metadata": {},
   "outputs": [],
   "source": [
    "# Garder le texte originial\n",
    "data_df.to_pickle(\"pickle/articles_originaux.pkl\")"
   ]
  },
  {
   "cell_type": "code",
   "execution_count": 26,
   "metadata": {},
   "outputs": [
    {
     "name": "stderr",
     "output_type": "stream",
     "text": [
      "[nltk_data] Downloading package stopwords to\n",
      "[nltk_data]     /Users/alexandre/nltk_data...\n",
      "[nltk_data]   Unzipping corpora/stopwords.zip.\n"
     ]
    },
    {
     "data": {
      "text/html": [
       "<div>\n",
       "<style scoped>\n",
       "    .dataframe tbody tr th:only-of-type {\n",
       "        vertical-align: middle;\n",
       "    }\n",
       "\n",
       "    .dataframe tbody tr th {\n",
       "        vertical-align: top;\n",
       "    }\n",
       "\n",
       "    .dataframe thead th {\n",
       "        text-align: right;\n",
       "    }\n",
       "</style>\n",
       "<table border=\"1\" class=\"dataframe\">\n",
       "  <thead>\n",
       "    <tr style=\"text-align: right;\">\n",
       "      <th></th>\n",
       "      <th>accueillir</th>\n",
       "      <th>accélération</th>\n",
       "      <th>acier</th>\n",
       "      <th>adorer</th>\n",
       "      <th>affiche</th>\n",
       "      <th>ailleurs</th>\n",
       "      <th>ajouté</th>\n",
       "      <th>alors</th>\n",
       "      <th>américains</th>\n",
       "      <th>angeles</th>\n",
       "      <th>...</th>\n",
       "      <th>véhicules</th>\n",
       "      <th>véritable</th>\n",
       "      <th>zéro</th>\n",
       "      <th>échange</th>\n",
       "      <th>éclater</th>\n",
       "      <th>également</th>\n",
       "      <th>électrique</th>\n",
       "      <th>électriques</th>\n",
       "      <th>équipe</th>\n",
       "      <th>être</th>\n",
       "    </tr>\n",
       "  </thead>\n",
       "  <tbody>\n",
       "    <tr>\n",
       "      <th>challenges</th>\n",
       "      <td>0</td>\n",
       "      <td>0</td>\n",
       "      <td>1</td>\n",
       "      <td>0</td>\n",
       "      <td>0</td>\n",
       "      <td>0</td>\n",
       "      <td>1</td>\n",
       "      <td>1</td>\n",
       "      <td>0</td>\n",
       "      <td>1</td>\n",
       "      <td>...</td>\n",
       "      <td>0</td>\n",
       "      <td>0</td>\n",
       "      <td>0</td>\n",
       "      <td>1</td>\n",
       "      <td>0</td>\n",
       "      <td>1</td>\n",
       "      <td>0</td>\n",
       "      <td>0</td>\n",
       "      <td>0</td>\n",
       "      <td>0</td>\n",
       "    </tr>\n",
       "    <tr>\n",
       "      <th>leparisien</th>\n",
       "      <td>1</td>\n",
       "      <td>1</td>\n",
       "      <td>1</td>\n",
       "      <td>1</td>\n",
       "      <td>1</td>\n",
       "      <td>1</td>\n",
       "      <td>0</td>\n",
       "      <td>0</td>\n",
       "      <td>1</td>\n",
       "      <td>1</td>\n",
       "      <td>...</td>\n",
       "      <td>1</td>\n",
       "      <td>1</td>\n",
       "      <td>1</td>\n",
       "      <td>0</td>\n",
       "      <td>1</td>\n",
       "      <td>0</td>\n",
       "      <td>2</td>\n",
       "      <td>1</td>\n",
       "      <td>1</td>\n",
       "      <td>1</td>\n",
       "    </tr>\n",
       "  </tbody>\n",
       "</table>\n",
       "<p>2 rows × 296 columns</p>\n",
       "</div>"
      ],
      "text/plain": [
       "            accueillir  accélération  acier  adorer  affiche  ailleurs  \\\n",
       "challenges           0             0      1       0        0         0   \n",
       "leparisien           1             1      1       1        1         1   \n",
       "\n",
       "            ajouté  alors  américains  angeles  ...  véhicules  véritable  \\\n",
       "challenges       1      1           0        1  ...          0          0   \n",
       "leparisien       0      0           1        1  ...          1          1   \n",
       "\n",
       "            zéro  échange  éclater  également  électrique  électriques  \\\n",
       "challenges     0        1        0          1           0            0   \n",
       "leparisien     1        0        1          0           2            1   \n",
       "\n",
       "            équipe  être  \n",
       "challenges       0     0  \n",
       "leparisien       1     1  \n",
       "\n",
       "[2 rows x 296 columns]"
      ]
     },
     "execution_count": 26,
     "metadata": {},
     "output_type": "execute_result"
    }
   ],
   "source": [
    "from sklearn.feature_extraction.text import CountVectorizer\n",
    "import nltk\n",
    "nltk.download('stopwords')\n",
    "\n",
    "cv = CountVectorizer(stop_words=stopwords.words('french'))\n",
    "data_cv = cv.fit_transform(data_clean.text)\n",
    "data_dtm = pd.DataFrame(data_cv.toarray(), columns=cv.get_feature_names())\n",
    "data_dtm.index = data_clean.index\n",
    "data_dtm"
   ]
  },
  {
   "cell_type": "code",
   "execution_count": 30,
   "metadata": {},
   "outputs": [],
   "source": [
    "data_dtm.to_pickle(\"pickle/dtm.pkl\")\n",
    "data_clean.to_pickle(\"pickle/articles_clean.pkl\")"
   ]
  },
  {
   "cell_type": "code",
   "execution_count": null,
   "metadata": {},
   "outputs": [],
   "source": []
  }
 ],
 "metadata": {
  "kernelspec": {
   "display_name": "Python 3",
   "language": "python",
   "name": "python3"
  },
  "language_info": {
   "codemirror_mode": {
    "name": "ipython",
    "version": 3
   },
   "file_extension": ".py",
   "mimetype": "text/x-python",
   "name": "python",
   "nbconvert_exporter": "python",
   "pygments_lexer": "ipython3",
   "version": "3.8.5"
  }
 },
 "nbformat": 4,
 "nbformat_minor": 4
}
