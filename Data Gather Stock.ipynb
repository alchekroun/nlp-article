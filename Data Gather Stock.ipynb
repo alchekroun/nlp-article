{
 "cells": [
  {
   "cell_type": "code",
   "execution_count": 3,
   "metadata": {},
   "outputs": [],
   "source": [
    "%matplotlib inline\n",
    "import pandas as pd\n",
    "import matplotlib.pyplot as plt\n",
    "plt.style.use('seaborn-whitegrid')"
   ]
  },
  {
   "cell_type": "code",
   "execution_count": 4,
   "metadata": {},
   "outputs": [
    {
     "data": {
      "text/html": [
       "<div>\n",
       "<style scoped>\n",
       "    .dataframe tbody tr th:only-of-type {\n",
       "        vertical-align: middle;\n",
       "    }\n",
       "\n",
       "    .dataframe tbody tr th {\n",
       "        vertical-align: top;\n",
       "    }\n",
       "\n",
       "    .dataframe thead th {\n",
       "        text-align: right;\n",
       "    }\n",
       "</style>\n",
       "<table border=\"1\" class=\"dataframe\">\n",
       "  <thead>\n",
       "    <tr style=\"text-align: right;\">\n",
       "      <th></th>\n",
       "      <th>index</th>\n",
       "      <th>1. open</th>\n",
       "      <th>2. high</th>\n",
       "      <th>3. low</th>\n",
       "      <th>4. close</th>\n",
       "      <th>5. volume</th>\n",
       "    </tr>\n",
       "    <tr>\n",
       "      <th>index</th>\n",
       "      <th></th>\n",
       "      <th></th>\n",
       "      <th></th>\n",
       "      <th></th>\n",
       "      <th></th>\n",
       "      <th></th>\n",
       "    </tr>\n",
       "  </thead>\n",
       "  <tbody>\n",
       "    <tr>\n",
       "      <th>0</th>\n",
       "      <td>2020-12-15</td>\n",
       "      <td>643.28</td>\n",
       "      <td>646.9000</td>\n",
       "      <td>623.8000</td>\n",
       "      <td>633.25</td>\n",
       "      <td>44512323.0</td>\n",
       "    </tr>\n",
       "    <tr>\n",
       "      <th>1</th>\n",
       "      <td>2020-12-14</td>\n",
       "      <td>619.00</td>\n",
       "      <td>642.7499</td>\n",
       "      <td>610.2001</td>\n",
       "      <td>639.83</td>\n",
       "      <td>52040649.0</td>\n",
       "    </tr>\n",
       "    <tr>\n",
       "      <th>2</th>\n",
       "      <td>2020-12-11</td>\n",
       "      <td>615.01</td>\n",
       "      <td>624.0000</td>\n",
       "      <td>596.8000</td>\n",
       "      <td>609.99</td>\n",
       "      <td>46474974.0</td>\n",
       "    </tr>\n",
       "    <tr>\n",
       "      <th>3</th>\n",
       "      <td>2020-12-10</td>\n",
       "      <td>574.37</td>\n",
       "      <td>627.7500</td>\n",
       "      <td>566.3400</td>\n",
       "      <td>627.07</td>\n",
       "      <td>67083153.0</td>\n",
       "    </tr>\n",
       "    <tr>\n",
       "      <th>4</th>\n",
       "      <td>2020-12-09</td>\n",
       "      <td>653.69</td>\n",
       "      <td>654.3200</td>\n",
       "      <td>588.0000</td>\n",
       "      <td>604.48</td>\n",
       "      <td>71291190.0</td>\n",
       "    </tr>\n",
       "    <tr>\n",
       "      <th>...</th>\n",
       "      <td>...</td>\n",
       "      <td>...</td>\n",
       "      <td>...</td>\n",
       "      <td>...</td>\n",
       "      <td>...</td>\n",
       "      <td>...</td>\n",
       "    </tr>\n",
       "    <tr>\n",
       "      <th>2631</th>\n",
       "      <td>2010-07-06</td>\n",
       "      <td>20.00</td>\n",
       "      <td>20.0000</td>\n",
       "      <td>15.8300</td>\n",
       "      <td>16.11</td>\n",
       "      <td>6866900.0</td>\n",
       "    </tr>\n",
       "    <tr>\n",
       "      <th>2632</th>\n",
       "      <td>2010-07-02</td>\n",
       "      <td>23.00</td>\n",
       "      <td>23.1000</td>\n",
       "      <td>18.7100</td>\n",
       "      <td>19.20</td>\n",
       "      <td>5139800.0</td>\n",
       "    </tr>\n",
       "    <tr>\n",
       "      <th>2633</th>\n",
       "      <td>2010-07-01</td>\n",
       "      <td>25.00</td>\n",
       "      <td>25.9200</td>\n",
       "      <td>20.2700</td>\n",
       "      <td>21.96</td>\n",
       "      <td>8218800.0</td>\n",
       "    </tr>\n",
       "    <tr>\n",
       "      <th>2634</th>\n",
       "      <td>2010-06-30</td>\n",
       "      <td>25.79</td>\n",
       "      <td>30.4192</td>\n",
       "      <td>23.3000</td>\n",
       "      <td>23.83</td>\n",
       "      <td>17187100.0</td>\n",
       "    </tr>\n",
       "    <tr>\n",
       "      <th>2635</th>\n",
       "      <td>2010-06-29</td>\n",
       "      <td>19.00</td>\n",
       "      <td>25.0000</td>\n",
       "      <td>17.5400</td>\n",
       "      <td>23.89</td>\n",
       "      <td>18766300.0</td>\n",
       "    </tr>\n",
       "  </tbody>\n",
       "</table>\n",
       "<p>2636 rows × 6 columns</p>\n",
       "</div>"
      ],
      "text/plain": [
       "            index  1. open   2. high    3. low  4. close   5. volume\n",
       "index                                                               \n",
       "0      2020-12-15   643.28  646.9000  623.8000    633.25  44512323.0\n",
       "1      2020-12-14   619.00  642.7499  610.2001    639.83  52040649.0\n",
       "2      2020-12-11   615.01  624.0000  596.8000    609.99  46474974.0\n",
       "3      2020-12-10   574.37  627.7500  566.3400    627.07  67083153.0\n",
       "4      2020-12-09   653.69  654.3200  588.0000    604.48  71291190.0\n",
       "...           ...      ...       ...       ...       ...         ...\n",
       "2631   2010-07-06    20.00   20.0000   15.8300     16.11   6866900.0\n",
       "2632   2010-07-02    23.00   23.1000   18.7100     19.20   5139800.0\n",
       "2633   2010-07-01    25.00   25.9200   20.2700     21.96   8218800.0\n",
       "2634   2010-06-30    25.79   30.4192   23.3000     23.83  17187100.0\n",
       "2635   2010-06-29    19.00   25.0000   17.5400     23.89  18766300.0\n",
       "\n",
       "[2636 rows x 6 columns]"
      ]
     },
     "execution_count": 4,
     "metadata": {},
     "output_type": "execute_result"
    }
   ],
   "source": [
    "# Extract data stock of TESLA from alpha vantage API\n",
    "from alpha_vantage.timeseries import TimeSeries\n",
    "key = \"DVT0H8E56WGAV95G\"\n",
    "ts = TimeSeries(key=key,output_format='pandas', indexing_type='integer')\n",
    "\n",
    "data, metadata = ts.get_daily('TSLA', outputsize='full')\n",
    "data"
   ]
  },
  {
   "cell_type": "code",
   "execution_count": 5,
   "metadata": {},
   "outputs": [
    {
     "data": {
      "text/plain": [
       "[<matplotlib.lines.Line2D at 0x7fbd3baf0b20>]"
      ]
     },
     "execution_count": 5,
     "metadata": {},
     "output_type": "execute_result"
    },
    {
     "data": {
      "image/png": "[encoded data removed]",
      "text/plain": [
       "<Figure size 432x288 with 1 Axes>"
      ]
     },
     "metadata": {},
     "output_type": "display_data"
    }
   ],
   "source": [
    "# Visualise data of concerned period\n",
    "# Period : 2019-10-01 -> 2020-09-30\n",
    "data_period = data[53:306]\n",
    "import numpy as np\n",
    "figure = plt.figure()\n",
    "ax = plt.axes()\n",
    "x = np.linspace(0, 253, 253)\n",
    "ax.plot(x, data_period['4. close'])"
   ]
  },
  {
   "cell_type": "code",
   "execution_count": 6,
   "metadata": {},
   "outputs": [
    {
     "data": {
      "text/plain": [
       "index\n",
       "201    2020-03-02\n",
       "202    2020-02-28\n",
       "203    2020-02-27\n",
       "204    2020-02-26\n",
       "205    2020-02-25\n",
       "          ...    \n",
       "301    2019-10-07\n",
       "302    2019-10-04\n",
       "303    2019-10-03\n",
       "304    2019-10-02\n",
       "305    2019-10-01\n",
       "Name: index, Length: 105, dtype: object"
      ]
     },
     "execution_count": 6,
     "metadata": {},
     "output_type": "execute_result"
    }
   ],
   "source": [
    "# First skyrocket 2019-10-01 -> 2020-02-31 \n",
    "data_period_l = data_period[-105:]\n",
    "data_period_l['index']"
   ]
  },
  {
   "cell_type": "code",
   "execution_count": 7,
   "metadata": {},
   "outputs": [],
   "source": []
  }
 ],
 "metadata": {
  "kernelspec": {
   "display_name": "Python 3",
   "language": "python",
   "name": "python3"
  },
  "language_info": {
   "codemirror_mode": {
    "name": "ipython",
    "version": 3
   },
   "file_extension": ".py",
   "mimetype": "text/x-python",
   "name": "python",
   "nbconvert_exporter": "python",
   "pygments_lexer": "ipython3",
   "version": "3.8.5"
  }
 },
 "nbformat": 4,
 "nbformat_minor": 4
}
