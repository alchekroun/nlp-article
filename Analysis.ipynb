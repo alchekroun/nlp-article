{
 "cells": [
  {
   "cell_type": "code",
   "execution_count": 1,
   "metadata": {},
   "outputs": [
    {
     "data": {
      "text/html": [
       "<div>\n",
       "<style scoped>\n",
       "    .dataframe tbody tr th:only-of-type {\n",
       "        vertical-align: middle;\n",
       "    }\n",
       "\n",
       "    .dataframe tbody tr th {\n",
       "        vertical-align: top;\n",
       "    }\n",
       "\n",
       "    .dataframe thead th {\n",
       "        text-align: right;\n",
       "    }\n",
       "</style>\n",
       "<table border=\"1\" class=\"dataframe\">\n",
       "  <thead>\n",
       "    <tr style=\"text-align: right;\">\n",
       "      <th></th>\n",
       "      <th>title</th>\n",
       "      <th>description</th>\n",
       "      <th>content</th>\n",
       "    </tr>\n",
       "  </thead>\n",
       "  <tbody>\n",
       "    <tr>\n",
       "      <th>0</th>\n",
       "      <td>Twitter's Bitcoin hackers had almost limitless...</td>\n",
       "      <td>On Wednesday, July 15, Twitter was the target ...</td>\n",
       "      <td>Just hackers burning up 0day like it’s a fire ...</td>\n",
       "    </tr>\n",
       "    <tr>\n",
       "      <th>1</th>\n",
       "      <td>Tampa teenager arrested for Twitter Bitcoin hack</td>\n",
       "      <td>Authorities in Tampa, Florida have arrested a ...</td>\n",
       "      <td>Authorities in Tampa, Florida have arrested a ...</td>\n",
       "    </tr>\n",
       "    <tr>\n",
       "      <th>2</th>\n",
       "      <td>The 'Robo Revenge' App Makes It Easy to Sue Ro...</td>\n",
       "      <td>Mac malware, a Bitcoin mixer, and more of the ...</td>\n",
       "      <td>Just when you thought the catastrophic Equifax...</td>\n",
       "    </tr>\n",
       "    <tr>\n",
       "      <th>3</th>\n",
       "      <td>An Engineer Gets 9 Years for Stealing $10M Fro...</td>\n",
       "      <td>The defendant tried—and failed—to use bitcoin ...</td>\n",
       "      <td>A former Microsoft software engineer from Ukra...</td>\n",
       "    </tr>\n",
       "    <tr>\n",
       "      <th>4</th>\n",
       "      <td>Casa pivots to provide self-custody services t...</td>\n",
       "      <td>Casa, a Colorado-based provider of bitcoin sec...</td>\n",
       "      <td>Casa, a Colorado-based provider of bitcoin sec...</td>\n",
       "    </tr>\n",
       "    <tr>\n",
       "      <th>5</th>\n",
       "      <td>Is the New Visa Bitcoin Rewards Card Worth It?</td>\n",
       "      <td>Visa has partnered with cryptocurrency startup...</td>\n",
       "      <td>Visa has partnered with cryptocurrency startup...</td>\n",
       "    </tr>\n",
       "    <tr>\n",
       "      <th>6</th>\n",
       "      <td>Google, Amazon, and Apple Have a Trillion Doll...</td>\n",
       "      <td>Plus: Steve Jobs' too-modest vision for Apple,...</td>\n",
       "      <td>Hi again, its Steven Levy, WIREDs editor at la...</td>\n",
       "    </tr>\n",
       "    <tr>\n",
       "      <th>7</th>\n",
       "      <td>How the Alleged Twitter Hackers Got Caught</td>\n",
       "      <td>Bitcoin payments and IP addresses led investig...</td>\n",
       "      <td>On July 15, a Discord user with the handle Kir...</td>\n",
       "    </tr>\n",
       "    <tr>\n",
       "      <th>8</th>\n",
       "      <td>Twitter hacker was previously caught stealing ...</td>\n",
       "      <td>Graham Ivan Clark, the 17-year-old “mastermind...</td>\n",
       "      <td>In April, the Secret Service seized 100 Bitcoi...</td>\n",
       "    </tr>\n",
       "    <tr>\n",
       "      <th>9</th>\n",
       "      <td>The FBI is investigating the Twitter Bitcoin hack</td>\n",
       "      <td>The FBI has confirmed that it’s investigating ...</td>\n",
       "      <td>Reuters had previously reported the FBI would ...</td>\n",
       "    </tr>\n",
       "    <tr>\n",
       "      <th>10</th>\n",
       "      <td>Everything we know about the Twitter Bitcoin hack</td>\n",
       "      <td>Author’s note: This story was first published ...</td>\n",
       "      <td>Most of these accounts tweeted some variant of...</td>\n",
       "    </tr>\n",
       "    <tr>\n",
       "      <th>11</th>\n",
       "      <td>Twitter confirms 'Bitcoin' hackers copied the ...</td>\n",
       "      <td>Ever since Wednesday’s “bitcoin scam” hack whe...</td>\n",
       "      <td>Our investigation and cooperation with law enf...</td>\n",
       "    </tr>\n",
       "    <tr>\n",
       "      <th>12</th>\n",
       "      <td>PayPal to let you buy and sell cryptocurrencie...</td>\n",
       "      <td>PayPal has partnered with cryptocurrency compa...</td>\n",
       "      <td>PayPal has partnered with cryptocurrency compa...</td>\n",
       "    </tr>\n",
       "    <tr>\n",
       "      <th>13</th>\n",
       "      <td>Bitcoin bulls are running, as prices spike abo...</td>\n",
       "      <td>The bitcoin bulls are back in town. The price ...</td>\n",
       "      <td>The bitcoin bulls are back in town.\\r\\nThe pri...</td>\n",
       "    </tr>\n",
       "    <tr>\n",
       "      <th>14</th>\n",
       "      <td>Coinbase says it halted more than $280,000 in ...</td>\n",
       "      <td>The cryptocurrency exchange Coinbase said that...</td>\n",
       "      <td>The company blacklisted the bitcoin address\\r\\...</td>\n",
       "    </tr>\n",
       "    <tr>\n",
       "      <th>15</th>\n",
       "      <td>Steve Wozniak sues YouTube over Bitcoin scam v...</td>\n",
       "      <td>Bitcoin scams are causing a lot of headaches r...</td>\n",
       "      <td>Bitcoin scams are causing a lot of headaches r...</td>\n",
       "    </tr>\n",
       "    <tr>\n",
       "      <th>16</th>\n",
       "      <td>J.K. Rowling is four cocktails in and talking ...</td>\n",
       "      <td>J.K. Rowling has been drinking a lot and you'd...</td>\n",
       "      <td>J.K. Rowling has been drinking a lot and you'd...</td>\n",
       "    </tr>\n",
       "    <tr>\n",
       "      <th>17</th>\n",
       "      <td>Bitcoin is also having a very, very bad day</td>\n",
       "      <td>Bitcoin is going through a remarkably bad day....</td>\n",
       "      <td>Bitcoin is going through a remarkably bad day....</td>\n",
       "    </tr>\n",
       "    <tr>\n",
       "      <th>18</th>\n",
       "      <td>PayPal now lets all US users buy, sell and hol...</td>\n",
       "      <td>PayPal is bringing its newly-announced support...</td>\n",
       "      <td>PayPal is bringing its newly-announced support...</td>\n",
       "    </tr>\n",
       "    <tr>\n",
       "      <th>19</th>\n",
       "      <td>DOJ says it seized over $1 billion in bitcoin ...</td>\n",
       "      <td>Two days ago, about $1 billion worth of bitcoi...</td>\n",
       "      <td>Two days ago, about $1 billion worth of bitcoi...</td>\n",
       "    </tr>\n",
       "  </tbody>\n",
       "</table>\n",
       "</div>"
      ],
      "text/plain": [
       "                                                title  \\\n",
       "0   Twitter's Bitcoin hackers had almost limitless...   \n",
       "1    Tampa teenager arrested for Twitter Bitcoin hack   \n",
       "2   The 'Robo Revenge' App Makes It Easy to Sue Ro...   \n",
       "3   An Engineer Gets 9 Years for Stealing $10M Fro...   \n",
       "4   Casa pivots to provide self-custody services t...   \n",
       "5      Is the New Visa Bitcoin Rewards Card Worth It?   \n",
       "6   Google, Amazon, and Apple Have a Trillion Doll...   \n",
       "7          How the Alleged Twitter Hackers Got Caught   \n",
       "8   Twitter hacker was previously caught stealing ...   \n",
       "9   The FBI is investigating the Twitter Bitcoin hack   \n",
       "10  Everything we know about the Twitter Bitcoin hack   \n",
       "11  Twitter confirms 'Bitcoin' hackers copied the ...   \n",
       "12  PayPal to let you buy and sell cryptocurrencie...   \n",
       "13  Bitcoin bulls are running, as prices spike abo...   \n",
       "14  Coinbase says it halted more than $280,000 in ...   \n",
       "15  Steve Wozniak sues YouTube over Bitcoin scam v...   \n",
       "16  J.K. Rowling is four cocktails in and talking ...   \n",
       "17        Bitcoin is also having a very, very bad day   \n",
       "18  PayPal now lets all US users buy, sell and hol...   \n",
       "19  DOJ says it seized over $1 billion in bitcoin ...   \n",
       "\n",
       "                                          description  \\\n",
       "0   On Wednesday, July 15, Twitter was the target ...   \n",
       "1   Authorities in Tampa, Florida have arrested a ...   \n",
       "2   Mac malware, a Bitcoin mixer, and more of the ...   \n",
       "3   The defendant tried—and failed—to use bitcoin ...   \n",
       "4   Casa, a Colorado-based provider of bitcoin sec...   \n",
       "5   Visa has partnered with cryptocurrency startup...   \n",
       "6   Plus: Steve Jobs' too-modest vision for Apple,...   \n",
       "7   Bitcoin payments and IP addresses led investig...   \n",
       "8   Graham Ivan Clark, the 17-year-old “mastermind...   \n",
       "9   The FBI has confirmed that it’s investigating ...   \n",
       "10  Author’s note: This story was first published ...   \n",
       "11  Ever since Wednesday’s “bitcoin scam” hack whe...   \n",
       "12  PayPal has partnered with cryptocurrency compa...   \n",
       "13  The bitcoin bulls are back in town. The price ...   \n",
       "14  The cryptocurrency exchange Coinbase said that...   \n",
       "15  Bitcoin scams are causing a lot of headaches r...   \n",
       "16  J.K. Rowling has been drinking a lot and you'd...   \n",
       "17  Bitcoin is going through a remarkably bad day....   \n",
       "18  PayPal is bringing its newly-announced support...   \n",
       "19  Two days ago, about $1 billion worth of bitcoi...   \n",
       "\n",
       "                                              content  \n",
       "0   Just hackers burning up 0day like it’s a fire ...  \n",
       "1   Authorities in Tampa, Florida have arrested a ...  \n",
       "2   Just when you thought the catastrophic Equifax...  \n",
       "3   A former Microsoft software engineer from Ukra...  \n",
       "4   Casa, a Colorado-based provider of bitcoin sec...  \n",
       "5   Visa has partnered with cryptocurrency startup...  \n",
       "6   Hi again, its Steven Levy, WIREDs editor at la...  \n",
       "7   On July 15, a Discord user with the handle Kir...  \n",
       "8   In April, the Secret Service seized 100 Bitcoi...  \n",
       "9   Reuters had previously reported the FBI would ...  \n",
       "10  Most of these accounts tweeted some variant of...  \n",
       "11  Our investigation and cooperation with law enf...  \n",
       "12  PayPal has partnered with cryptocurrency compa...  \n",
       "13  The bitcoin bulls are back in town.\\r\\nThe pri...  \n",
       "14  The company blacklisted the bitcoin address\\r\\...  \n",
       "15  Bitcoin scams are causing a lot of headaches r...  \n",
       "16  J.K. Rowling has been drinking a lot and you'd...  \n",
       "17  Bitcoin is going through a remarkably bad day....  \n",
       "18  PayPal is bringing its newly-announced support...  \n",
       "19  Two days ago, about $1 billion worth of bitcoi...  "
      ]
     },
     "execution_count": 1,
     "metadata": {},
     "output_type": "execute_result"
    }
   ],
   "source": [
    "import pandas as pd\n",
    "\n",
    "data = pd.read_pickle('pickle/topbtcnews.pkl')\n",
    "data"
   ]
  },
  {
   "cell_type": "code",
   "execution_count": 8,
   "metadata": {},
   "outputs": [
    {
     "name": "stdout",
     "output_type": "stream",
     "text": [
      "2020-12-16 12:31:37,636 https://nlp.informatik.hu-berlin.de/resources/models/sentiment-curated-distilbert/sentiment-en-mix-distillbert_3.1.pt not found in cache, downloading to /var/folders/tf/cv6g15bd7y1951b49jd0vwt80000gn/T/tmp__zf_83m\n"
     ]
    },
    {
     "name": "stderr",
     "output_type": "stream",
     "text": [
      "100%|██████████| 266147697/266147697 [01:33<00:00, 2852862.41B/s]"
     ]
    },
    {
     "name": "stdout",
     "output_type": "stream",
     "text": [
      "2020-12-16 12:33:11,155 copying /var/folders/tf/cv6g15bd7y1951b49jd0vwt80000gn/T/tmp__zf_83m to cache at /Users/alexandre/.flair/models/sentiment-en-mix-distillbert_3.1.pt\n"
     ]
    },
    {
     "name": "stderr",
     "output_type": "stream",
     "text": [
      "\n"
     ]
    },
    {
     "name": "stdout",
     "output_type": "stream",
     "text": [
      "2020-12-16 12:33:11,916 removing temp file /var/folders/tf/cv6g15bd7y1951b49jd0vwt80000gn/T/tmp__zf_83m\n",
      "2020-12-16 12:33:11,952 loading file /Users/alexandre/.flair/models/sentiment-en-mix-distillbert_3.1.pt\n"
     ]
    },
    {
     "data": {
      "application/vnd.jupyter.widget-view+json": {
       "model_id": "b5fc1ba8406441a7b577d32bca16f6c4",
       "version_major": 2,
       "version_minor": 0
      },
      "text/plain": [
       "HBox(children=(HTML(value='Downloading'), FloatProgress(value=0.0, max=442.0), HTML(value='')))"
      ]
     },
     "metadata": {},
     "output_type": "display_data"
    },
    {
     "name": "stdout",
     "output_type": "stream",
     "text": [
      "\n"
     ]
    },
    {
     "data": {
      "application/vnd.jupyter.widget-view+json": {
       "model_id": "c6b6a02bcf4c42d492d96ae80adbe160",
       "version_major": 2,
       "version_minor": 0
      },
      "text/plain": [
       "HBox(children=(HTML(value='Downloading'), FloatProgress(value=0.0, max=231508.0), HTML(value='')))"
      ]
     },
     "metadata": {},
     "output_type": "display_data"
    },
    {
     "name": "stdout",
     "output_type": "stream",
     "text": [
      "\n"
     ]
    }
   ],
   "source": [
    "import flair\n",
    "sentiment_model = flair.models.TextClassifier.load('en-sentiment')"
   ]
  },
  {
   "cell_type": "code",
   "execution_count": 44,
   "metadata": {},
   "outputs": [
    {
     "data": {
      "text/plain": [
       "Sentence: \"I love you less than everything\"   [− Tokens: 6  − Sentence-Labels: {'label': [NEGATIVE (0.7674)]}]"
      ]
     },
     "execution_count": 44,
     "metadata": {},
     "output_type": "execute_result"
    }
   ],
   "source": [
    "sample = Sentence(\"I love you less than everything\")\n",
    "sentiment_model.predict(sample)\n",
    "sample"
   ]
  },
  {
   "cell_type": "code",
   "execution_count": null,
   "metadata": {},
   "outputs": [],
   "source": []
  }
 ],
 "metadata": {
  "kernelspec": {
   "display_name": "Python 3",
   "language": "python",
   "name": "python3"
  },
  "language_info": {
   "codemirror_mode": {
    "name": "ipython",
    "version": 3
   },
   "file_extension": ".py",
   "mimetype": "text/x-python",
   "name": "python",
   "nbconvert_exporter": "python",
   "pygments_lexer": "ipython3",
   "version": "3.8.5"
  }
 },
 "nbformat": 4,
 "nbformat_minor": 4
}
